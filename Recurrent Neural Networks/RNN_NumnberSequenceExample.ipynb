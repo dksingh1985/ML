{
 "cells": [
  {
   "cell_type": "code",
   "execution_count": 15,
   "metadata": {},
   "outputs": [
    {
     "ename": "ModuleNotFoundError",
     "evalue": "No module named 'tensorflow.keras.model'",
     "output_type": "error",
     "traceback": [
      "\u001b[1;31m---------------------------------------------------------------------------\u001b[0m",
      "\u001b[1;31mModuleNotFoundError\u001b[0m                       Traceback (most recent call last)",
      "\u001b[1;32m<ipython-input-15-f2cec26fd25e>\u001b[0m in \u001b[0;36m<module>\u001b[1;34m\u001b[0m\n\u001b[0;32m      2\u001b[0m \u001b[1;32mimport\u001b[0m \u001b[0mtensorflow\u001b[0m \u001b[1;32mas\u001b[0m \u001b[0mtf\u001b[0m\u001b[1;33m\u001b[0m\u001b[1;33m\u001b[0m\u001b[0m\n\u001b[0;32m      3\u001b[0m \u001b[1;32mfrom\u001b[0m \u001b[0mtensorflow\u001b[0m\u001b[1;33m.\u001b[0m\u001b[0mkeras\u001b[0m \u001b[1;32mimport\u001b[0m \u001b[1;33m*\u001b[0m\u001b[1;33m\u001b[0m\u001b[1;33m\u001b[0m\u001b[0m\n\u001b[1;32m----> 4\u001b[1;33m \u001b[1;32mfrom\u001b[0m \u001b[0mtensorflow\u001b[0m\u001b[1;33m.\u001b[0m\u001b[0mkeras\u001b[0m\u001b[1;33m.\u001b[0m\u001b[0mmodel\u001b[0m \u001b[1;32mimport\u001b[0m \u001b[0mSequential\u001b[0m\u001b[1;33m\u001b[0m\u001b[1;33m\u001b[0m\u001b[0m\n\u001b[0m\u001b[0;32m      5\u001b[0m \u001b[1;32mfrom\u001b[0m \u001b[0mtensorflow\u001b[0m\u001b[1;33m.\u001b[0m\u001b[0mkeras\u001b[0m\u001b[1;33m.\u001b[0m\u001b[0mlayers\u001b[0m \u001b[1;32mimport\u001b[0m \u001b[0mDense\u001b[0m\u001b[1;33m\u001b[0m\u001b[1;33m\u001b[0m\u001b[0m\n",
      "\u001b[1;31mModuleNotFoundError\u001b[0m: No module named 'tensorflow.keras.model'"
     ]
    }
   ],
   "source": [
    "import numpy as np\n",
    "import tensorflow as tf\n",
    "from tensorflow.keras import *\n",
    "from tensorflow.keras.model import Sequential\n",
    "from tensorflow.keras.layers import Dense"
   ]
  },
  {
   "cell_type": "markdown",
   "metadata": {},
   "source": [
    "Prepare data for trainning"
   ]
  },
  {
   "cell_type": "code",
   "execution_count": 8,
   "metadata": {},
   "outputs": [],
   "source": [
    "X = np.zeros((1000,3))\n",
    "Y = np.zeros((1000,3))"
   ]
  },
  {
   "cell_type": "code",
   "execution_count": 18,
   "metadata": {},
   "outputs": [
    {
     "data": {
      "text/plain": [
       "(array([[[   2.],\n",
       "         [   3.],\n",
       "         [   4.]],\n",
       " \n",
       "        [[   3.],\n",
       "         [   4.],\n",
       "         [   5.]],\n",
       " \n",
       "        [[   4.],\n",
       "         [   5.],\n",
       "         [   6.]],\n",
       " \n",
       "        ...,\n",
       " \n",
       "        [[ 999.],\n",
       "         [1000.],\n",
       "         [1001.]],\n",
       " \n",
       "        [[1000.],\n",
       "         [1001.],\n",
       "         [1002.]],\n",
       " \n",
       "        [[1001.],\n",
       "         [1002.],\n",
       "         [1003.]]]),\n",
       " array([[[   5.],\n",
       "         [   6.],\n",
       "         [   7.]],\n",
       " \n",
       "        [[   6.],\n",
       "         [   7.],\n",
       "         [   8.]],\n",
       " \n",
       "        [[   7.],\n",
       "         [   8.],\n",
       "         [   9.]],\n",
       " \n",
       "        ...,\n",
       " \n",
       "        [[1002.],\n",
       "         [1003.],\n",
       "         [1004.]],\n",
       " \n",
       "        [[1003.],\n",
       "         [1004.],\n",
       "         [1005.]],\n",
       " \n",
       "        [[1004.],\n",
       "         [1005.],\n",
       "         [1006.]]]))"
      ]
     },
     "execution_count": 18,
     "metadata": {},
     "output_type": "execute_result"
    }
   ],
   "source": [
    "X,Y"
   ]
  },
  {
   "cell_type": "code",
   "execution_count": 10,
   "metadata": {},
   "outputs": [],
   "source": [
    "for i in range (1,1001):\n",
    "    X[i-1] = [i+1,i+2,i+3]\n",
    "    Y[i-1] = [i+4,i+5,i+6]"
   ]
  },
  {
   "cell_type": "code",
   "execution_count": 11,
   "metadata": {},
   "outputs": [
    {
     "data": {
      "text/plain": [
       "(array([[   2.,    3.,    4.],\n",
       "        [   3.,    4.,    5.],\n",
       "        [   4.,    5.,    6.],\n",
       "        ...,\n",
       "        [ 999., 1000., 1001.],\n",
       "        [1000., 1001., 1002.],\n",
       "        [1001., 1002., 1003.]]),\n",
       " array([[   5.,    6.,    7.],\n",
       "        [   6.,    7.,    8.],\n",
       "        [   7.,    8.,    9.],\n",
       "        ...,\n",
       "        [1002., 1003., 1004.],\n",
       "        [1003., 1004., 1005.],\n",
       "        [1004., 1005., 1006.]]))"
      ]
     },
     "execution_count": 11,
     "metadata": {},
     "output_type": "execute_result"
    }
   ],
   "source": [
    "X = X.reshape((1000,3,1))\n",
    "Y = Y.reshape((1000,3,1))"
   ]
  },
  {
   "cell_type": "markdown",
   "metadata": {},
   "source": [
    "Build model"
   ]
  },
  {
   "cell_type": "code",
   "execution_count": null,
   "metadata": {},
   "outputs": [],
   "source": [
    "model = Sequential()\n",
    "\n",
    "model.add(LSTM(22, input_shape=(1000, 3,1)))\n",
    "model.add(Dense(22, activation='relu'))\n",
    "model.compile(loss='categorical_crossentropy', optimizer='adam', metrics=['accuracy'])\n",
    "print(model.summary())\n",
    "model.fit(train_input, train_output, epochs=20, batch_size=100)"
   ]
  }
 ],
 "metadata": {
  "kernelspec": {
   "display_name": "Python 3",
   "language": "python",
   "name": "python3"
  },
  "language_info": {
   "codemirror_mode": {
    "name": "ipython",
    "version": 3
   },
   "file_extension": ".py",
   "mimetype": "text/x-python",
   "name": "python",
   "nbconvert_exporter": "python",
   "pygments_lexer": "ipython3",
   "version": "3.8.3"
  }
 },
 "nbformat": 4,
 "nbformat_minor": 4
}
